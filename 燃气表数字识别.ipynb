{
 "cells": [
  {
   "cell_type": "markdown",
   "id": "yellow-remedy",
   "metadata": {},
   "source": [
    "# 燃气表|电能表表底计数识别\n",
    "主要分为2个任务：\n",
    "1.图片中数字区域检测\n",
    "2.数字区域识别"
   ]
  },
  {
   "cell_type": "code",
   "execution_count": 1,
   "id": "balanced-partition",
   "metadata": {
    "scrolled": true
   },
   "outputs": [],
   "source": [
    "import torch\n",
    "import numpy as np\n",
    "import pandas as pd\n",
    "import os\n",
    "import sys\n",
    "import cv2\n",
    "import re\n",
    "import matplotlib.pyplot as plt\n",
    "import seaborn as sns\n",
    "from sklearn.mixture import GaussianMixture\n",
    "from sklearn.cluster import AgglomerativeClustering\n",
    "from sklearn.cluster import KMeans\n",
    "from sklearn.metrics import silhouette_score\n",
    "import asyncio\n",
    "import glob\n",
    "import shutil\n",
    "from collections import Counter,defaultdict\n",
    "sns.set_style(\"darkgrid\")"
   ]
  },
  {
   "cell_type": "markdown",
   "id": "prescription-egypt",
   "metadata": {},
   "source": [
    "## 数字区域检测\n",
    "数据集准备与分析"
   ]
  },
  {
   "cell_type": "code",
   "execution_count": null,
   "id": "tropical-canada",
   "metadata": {},
   "outputs": [],
   "source": [
    "# 数据路径\n",
    "data_path = 'D:\\数据集整理\\Video'"
   ]
  },
  {
   "cell_type": "code",
   "execution_count": null,
   "id": "instant-interference",
   "metadata": {},
   "outputs": [],
   "source": [
    "image_list = os.listdir(data_path)"
   ]
  },
  {
   "cell_type": "markdown",
   "id": "defensive-aircraft",
   "metadata": {},
   "source": [
    "### 存在需要剔除的反光图片，考虑使用高斯混合模型将正常图和反光图聚成2类"
   ]
  },
  {
   "cell_type": "code",
   "execution_count": null,
   "id": "entitled-velvet",
   "metadata": {},
   "outputs": [],
   "source": [
    "abnormal_image_path = f'{data_path}\\\\474902489004576_20220214070001.png'\n",
    "normal_image_path = f'{data_path}\\\\474902489004576_20220214080003.png'"
   ]
  },
  {
   "cell_type": "code",
   "execution_count": null,
   "id": "adverse-ethnic",
   "metadata": {},
   "outputs": [],
   "source": [
    "image_normal = cv2.imdecode(np.fromfile(normal_image_path, dtype=np.uint8), -1)\n",
    "# temp = cv2.imread(image_path)\n",
    "cv2.imshow('main', image_normal)\n",
    "cv2.waitKey(0)\n",
    "cv2.destroyWindow('main')"
   ]
  },
  {
   "cell_type": "code",
   "execution_count": null,
   "id": "electrical-insert",
   "metadata": {},
   "outputs": [],
   "source": [
    "# 观察数据分布\n",
    "plt.figure(figsize=(15, 10))\n",
    "sns.histplot(image_normal.flatten(), bins=50)"
   ]
  },
  {
   "cell_type": "code",
   "execution_count": null,
   "id": "resident-invite",
   "metadata": {},
   "outputs": [],
   "source": [
    "image_abnormal = cv2.imdecode(np.fromfile(abnormal_image_path, dtype=np.uint8), -1)\n",
    "# temp = cv2.imread(image_path)\n",
    "cv2.imshow('main', image_abnormal)\n",
    "cv2.waitKey(0)\n",
    "cv2.destroyWindow('main')"
   ]
  },
  {
   "cell_type": "code",
   "execution_count": null,
   "id": "steady-biology",
   "metadata": {},
   "outputs": [],
   "source": [
    "# 观察数据分布\n",
    "plt.figure(figsize=(15, 10))\n",
    "sns.histplot(image_abnormal.flatten(), bins=50)"
   ]
  },
  {
   "cell_type": "code",
   "execution_count": null,
   "id": "written-panic",
   "metadata": {},
   "outputs": [],
   "source": [
    "image_gen = ((i, cv2.imdecode(np.fromfile(f'{data_path}\\\\{i}', dtype=np.uint8), -1)) for i in image_list)"
   ]
  },
  {
   "cell_type": "code",
   "execution_count": null,
   "id": "formed-magnitude",
   "metadata": {},
   "outputs": [],
   "source": [
    "feature = {}\n",
    "split = 50\n",
    "for task in image_gen:\n",
    "    feature[task[0]] = np.histogram(task[1], split)[0]"
   ]
  },
  {
   "cell_type": "code",
   "execution_count": null,
   "id": "vocal-boxing",
   "metadata": {},
   "outputs": [],
   "source": [
    "label_arr = np.array(list(feature.keys()))\n",
    "label_arr"
   ]
  },
  {
   "cell_type": "code",
   "execution_count": null,
   "id": "naval-departure",
   "metadata": {},
   "outputs": [],
   "source": [
    "feature_arr = np.array(list(feature.values()))\n",
    "feature_arr"
   ]
  },
  {
   "cell_type": "code",
   "execution_count": null,
   "id": "lesbian-round",
   "metadata": {},
   "outputs": [],
   "source": [
    "feature_arr.shape"
   ]
  },
  {
   "cell_type": "code",
   "execution_count": null,
   "id": "thirty-elite",
   "metadata": {},
   "outputs": [],
   "source": [
    "# 层次聚类\n",
    "agg = AgglomerativeClustering(n_clusters=2)\n",
    "predict_res = agg.fit_predict(feature_arr)"
   ]
  },
  {
   "cell_type": "code",
   "execution_count": null,
   "id": "widespread-madonna",
   "metadata": {},
   "outputs": [],
   "source": [
    "# k-means\n",
    "km = KMeans(n_clusters=2)\n",
    "predict_res = km.fit_predict(feature_arr)"
   ]
  },
  {
   "cell_type": "code",
   "execution_count": null,
   "id": "current-interpretation",
   "metadata": {
    "scrolled": true
   },
   "outputs": [],
   "source": [
    "# 高斯混合模型\n",
    "gm = GaussianMixture(n_components=2)\n",
    "predict_res = gm.fit_predict(feature_arr)"
   ]
  },
  {
   "cell_type": "code",
   "execution_count": null,
   "id": "serious-multimedia",
   "metadata": {},
   "outputs": [],
   "source": [
    "# 取右均值大于左均值的那一类为正常图片\n",
    "normal_number = 0\n",
    "length = feature_arr.shape[1]\n",
    "feature_0_left_mean = feature_arr[np.argwhere(predict_res == 0).flatten()][:, :length//2].mean()\n",
    "feature_0_right_mean = feature_arr[np.argwhere(predict_res == 0).flatten()][:, length//2:].mean()\n",
    "if feature_0_right_mean < feature_0_left_mean:\n",
    "    normal_number = 1"
   ]
  },
  {
   "cell_type": "code",
   "execution_count": null,
   "id": "rough-restoration",
   "metadata": {},
   "outputs": [],
   "source": [
    "normal_number"
   ]
  },
  {
   "cell_type": "code",
   "execution_count": null,
   "id": "white-roberts",
   "metadata": {},
   "outputs": [],
   "source": [
    "label_abnormal = label_arr[np.argwhere(predict_res == 1 - normal_number).flatten()]\n",
    "label_normal = label_arr[np.argwhere(predict_res == normal_number).flatten()]"
   ]
  },
  {
   "cell_type": "code",
   "execution_count": null,
   "id": "infectious-brief",
   "metadata": {},
   "outputs": [],
   "source": [
    "abnormal_path = 'D:\\\\数据集整理\\\\abnormal_data_50_agg2'\n",
    "normal_path = 'D:\\\\数据集整理\\\\normal_data_50_agg2'\n",
    "if not os.path.exists(abnormal_path):\n",
    "    os.makedirs(abnormal_path)\n",
    "    \n",
    "if not os.path.exists(normal_path):\n",
    "    os.makedirs(normal_path)"
   ]
  },
  {
   "cell_type": "code",
   "execution_count": null,
   "id": "humanitarian-vienna",
   "metadata": {},
   "outputs": [],
   "source": [
    "for i in label_normal:\n",
    "    temp = cv2.imdecode(np.fromfile(f'{data_path}\\\\{i}', dtype=np.uint8), -1)\n",
    "    cv2.imencode('.png', temp)[1].tofile(f'{normal_path}\\\\{i}')"
   ]
  },
  {
   "cell_type": "code",
   "execution_count": null,
   "id": "extraordinary-angle",
   "metadata": {},
   "outputs": [],
   "source": [
    "for i in label_abnormal:\n",
    "    temp = cv2.imdecode(np.fromfile(f'{data_path}\\\\{i}', dtype=np.uint8), -1)\n",
    "    cv2.imencode('.png', temp)[1].tofile(f'{abnormal_path}\\\\{i}')"
   ]
  },
  {
   "cell_type": "code",
   "execution_count": null,
   "id": "b1e30afe",
   "metadata": {},
   "outputs": [],
   "source": [
    "source = 'D:\\\\demo\\\\yolov5\\\\requirements2.txt'\n",
    "destination = 'D:\\\\demo\\\\yolov5\\\\requirements_rgb.txt'"
   ]
  },
  {
   "cell_type": "markdown",
   "id": "d27c1dbc",
   "metadata": {},
   "source": [
    "## 生成目标检测数据集\n",
    "共3927张图片，随机取其中的n张，并划分为训练集和验证集"
   ]
  },
  {
   "cell_type": "code",
   "execution_count": null,
   "id": "baa0856a",
   "metadata": {},
   "outputs": [],
   "source": [
    "import cv2"
   ]
  },
  {
   "cell_type": "code",
   "execution_count": null,
   "id": "8b17b5a8",
   "metadata": {},
   "outputs": [],
   "source": [
    "use_data_path = 'D:\\\\数据集整理\\\\normal_data_50_agg2'\n",
    "train_sets = 2000\n",
    "val_sets = 200"
   ]
  },
  {
   "cell_type": "code",
   "execution_count": null,
   "id": "dad2db6b",
   "metadata": {},
   "outputs": [],
   "source": [
    "use_image_list = os.listdir(use_data_path)\n",
    "use_image_list[:10]"
   ]
  },
  {
   "cell_type": "code",
   "execution_count": null,
   "id": "e7ac4504",
   "metadata": {},
   "outputs": [],
   "source": [
    "len(use_image_list)"
   ]
  },
  {
   "cell_type": "code",
   "execution_count": null,
   "id": "cb955d51",
   "metadata": {},
   "outputs": [],
   "source": [
    "# 每块表取train_set // 2张图片\n",
    "image_splits = defaultdict(list)\n",
    "for ui in use_image_list:\n",
    "    temp_l = ui.split('_')[0]\n",
    "    image_splits[temp_l].append(ui)"
   ]
  },
  {
   "cell_type": "code",
   "execution_count": null,
   "id": "e318b32f",
   "metadata": {},
   "outputs": [],
   "source": [
    "# 每块表的图片按照日期顺序排列\n",
    "for k in image_splits:\n",
    "    v = np.array(image_splits[k])\n",
    "    temp = [int(x.split('_')[1].split('.')[0]) for x in v]\n",
    "    sort_idx = np.argsort(temp).flatten()\n",
    "    image_splits[k] = v[sort_idx][-(train_sets + val_sets)//2:]"
   ]
  },
  {
   "cell_type": "code",
   "execution_count": null,
   "id": "d95dcbf2",
   "metadata": {},
   "outputs": [],
   "source": [
    "all_images = np.array([x for x in image_splits.values()]).flatten()"
   ]
  },
  {
   "cell_type": "code",
   "execution_count": null,
   "id": "496dbe79",
   "metadata": {},
   "outputs": [],
   "source": [
    "all_images.shape"
   ]
  },
  {
   "cell_type": "code",
   "execution_count": null,
   "id": "8ff9958c",
   "metadata": {},
   "outputs": [],
   "source": [
    "# np.random.seed(666)\n",
    "# shuffle_idx = np.random.permutation(len(use_image_list))\n",
    "# shuffle_idx"
   ]
  },
  {
   "cell_type": "code",
   "execution_count": null,
   "id": "3d0557c6",
   "metadata": {},
   "outputs": [],
   "source": [
    "val_idx = np.arange(0, train_sets + val_sets, train_sets/val_sets + 1, dtype=int)\n",
    "train_idx = np.array([i for i in range(train_sets + val_sets) if i not in val_idx])\n",
    "val_images = all_images[val_idx]\n",
    "train_images = all_images[train_idx]"
   ]
  },
  {
   "cell_type": "code",
   "execution_count": null,
   "id": "99c723ea",
   "metadata": {},
   "outputs": [],
   "source": [
    "print(train_images.__len__(), train_images[:5])\n",
    "print(val_images.__len__(), train_images[:5])"
   ]
  },
  {
   "cell_type": "code",
   "execution_count": null,
   "id": "b351c5fb",
   "metadata": {},
   "outputs": [],
   "source": [
    "# 将图片转换为jpg格式，并存储到指定位置\n",
    "output_path = 'D:\\\\demo\\\\GasMeterData\\\\images\\\\train'\n",
    "if not os.path.exists(output_path):\n",
    "    os.makedirs(output_path)\n",
    "\n",
    "number = 0\n",
    "for il in train_images:\n",
    "    temp_path = f'{use_data_path}\\\\{il}'\n",
    "    temp = cv2.imdecode(np.fromfile(temp_path, dtype=np.uint8), -1)\n",
    "    cv2.imwrite(f'{output_path}\\\\img{number}.jpg', temp)\n",
    "    number += 1"
   ]
  },
  {
   "cell_type": "code",
   "execution_count": null,
   "id": "6e9f0c2f",
   "metadata": {},
   "outputs": [],
   "source": [
    "output_path = 'D:\\\\demo\\\\GasMeterData\\\\images\\\\val'\n",
    "if not os.path.exists(output_path):\n",
    "    os.makedirs(output_path)\n",
    "\n",
    "for il in val_images:\n",
    "    temp_path = f'{use_data_path}\\\\{il}'\n",
    "    temp = cv2.imdecode(np.fromfile(temp_path, dtype=np.uint8), -1)\n",
    "    cv2.imwrite(f'{output_path}\\\\img{number}.jpg', temp)\n",
    "    number += 1"
   ]
  },
  {
   "cell_type": "code",
   "execution_count": null,
   "id": "07449595",
   "metadata": {},
   "outputs": [],
   "source": [
    "# train is divided into 5 parts\n",
    "current_path = 'D:\\\\demo\\\\GasMeterData\\\\images\\\\train'\n",
    "current_images = os.listdir(current_path)\n",
    "number = 1\n",
    "for num, il in enumerate(current_images):\n",
    "    temp_path = f'{current_path}\\\\{il}'\n",
    "    temp = cv2.imread(temp_path)\n",
    "    temp_folder_path = f'{current_path}{number}'\n",
    "    if not os.path.exists(temp_folder_path):\n",
    "        os.makedirs(temp_folder_path)\n",
    "    cv2.imwrite(f'{temp_folder_path}\\\\{il}', temp)\n",
    "    if (num + 1) % 200 == 0:\n",
    "        number += 1"
   ]
  },
  {
   "cell_type": "code",
   "execution_count": null,
   "id": "8c714894",
   "metadata": {},
   "outputs": [],
   "source": [
    "# 剔除未标注的数据\n",
    "read_path = 'D:\\\\demo\\\\GasMeterData\\\\labels\\\\train'\n",
    "txt_list = glob.glob(read_path + '\\\\*')\n",
    "use_list = []\n",
    "for path in txt_list:\n",
    "    with open(path, 'r') as f:\n",
    "        res = f.read()\n",
    "        if res.strip('\\n'):\n",
    "            use_list.append(path)"
   ]
  },
  {
   "cell_type": "code",
   "execution_count": null,
   "id": "43fdc056",
   "metadata": {},
   "outputs": [],
   "source": [
    "# 剔除未标注的图片\n",
    "image_list = [x.split('\\\\')[-1].split('.')[0] for x in use_list]\n",
    "image_path = 'D:\\\\demo\\\\GasMeterData\\\\images\\\\train'\n",
    "all_image_list = os.listdir(image_path)\n",
    "for i in all_image_list:\n",
    "    if i.split('.')[0] not in image_list:\n",
    "        os.remove(f'{image_path}\\\\{i}')\n",
    "# 剔除标签(前面忘了...)\n",
    "for i in txt_list:\n",
    "    if i not in use_list:\n",
    "        os.remove(i)"
   ]
  },
  {
   "cell_type": "code",
   "execution_count": null,
   "id": "2b5ecbfb",
   "metadata": {},
   "outputs": [],
   "source": [
    "# image size: 1080 * 1920 * 3\n",
    "# 转换标签相对大小"
   ]
  },
  {
   "cell_type": "code",
   "execution_count": null,
   "id": "ba711df2",
   "metadata": {},
   "outputs": [],
   "source": [
    "crop_data_path = 'D:\\\\demo\\\\GasMeterData_pre\\\\crop_data'"
   ]
  },
  {
   "cell_type": "code",
   "execution_count": null,
   "id": "7f368a8f",
   "metadata": {},
   "outputs": [],
   "source": [
    "txt_path = 'D:\\\\demo\\\\GasMeterData\\\\labels\\\\train'\n",
    "out_path = 'D:\\\\demo\\\\GasMeterData\\\\labels\\\\train2'\n",
    "plate_label_path = 'D:\\\\demo\\\\GasMeterData_pre\\\\crop_label'\n",
    "raw_h, raw_w = 1080, 1920\n",
    "for i in use_list:\n",
    "    res = i.split('\\\\')[-1].split('.')[0]\n",
    "    # 读取当前表底框坐标位置\n",
    "    fr = open(f'{out_path}\\\\{res}.txt', 'w+')\n",
    "    with open(f'{plate_label_path}\\\\{res}.txt', 'r') as f:\n",
    "        plate_xywh = list(map(float, f.readline().split(' ')[1:]))\n",
    "        plate_x, plate_w = plate_xywh[0] * raw_w, plate_xywh[2] * raw_w\n",
    "        plate_y, plate_h = plate_xywh[1] * raw_h, plate_xywh[3] * raw_h\n",
    "        # 把坐标转换到左上角\n",
    "        plate_zx = plate_x - plate_w / 2\n",
    "        plate_zy = plate_y - plate_h / 2\n",
    "    with open(f'{txt_path}\\\\{res}.txt', 'r') as f:\n",
    "        for line in f.readlines():\n",
    "            lxywh = line.strip('\\n').split(' ')\n",
    "            x,y,w,h = list(map(float, lxywh[1:]))\n",
    "            crop_x = (x * raw_w - plate_zx) / plate_w\n",
    "            crop_y = (y * raw_h - plate_zy) / plate_h\n",
    "            crop_w = w * raw_w / plate_w\n",
    "            crop_h = h * raw_h / plate_h\n",
    "            # 转换后的坐标写入新的文件\n",
    "            fr.write(f'{lxywh[0]} {crop_x:.6f} {crop_y:.6f} {crop_w:.6f} {crop_h:.6f}\\n')\n",
    "    fr.close()"
   ]
  },
  {
   "cell_type": "code",
   "execution_count": null,
   "id": "bdcb708c",
   "metadata": {},
   "outputs": [],
   "source": [
    "# 测试标签转换效果\n",
    "test_image = f'{crop_data_path}\\\\img0.jpg'\n",
    "test_txt = f'{out_path}\\\\img0.txt'\n",
    "image_arr = cv2.imread(test_image)\n",
    "print(image_arr.shape)\n",
    "f = open(f'{test_txt}', 'r')\n",
    "image_txts = f.readlines()\n",
    "f.close()\n",
    "s = ''\n",
    "raw_h, raw_w = image_arr.shape[0], image_arr.shape[1]\n",
    "for l in image_txts:\n",
    "    lxywh = l.strip('\\n').split(' ')\n",
    "    s += f'{lxywh[0]} '\n",
    "    x, y, w, h = list(map(float, lxywh[1:]))\n",
    "    x1, y1 = round((x - w / 2) * raw_w), round((y - h / 2) * raw_h)\n",
    "    x2, y2 = round((x + w / 2) * raw_w), round((y + h / 2) * raw_h)\n",
    "    x1, y1, x2, y2 = int(x1), int(y1), int(x2), int(y2)\n",
    "    cv2.rectangle(image_arr, (x1, y1), (x2, y2), (255, 0, 0), 2)\n",
    "print(s)\n",
    "cv2.imshow('main', image_arr)\n",
    "cv2.waitKey(0)\n",
    "cv2.destroyWindow('main')"
   ]
  },
  {
   "cell_type": "code",
   "execution_count": null,
   "id": "2c9ed78b",
   "metadata": {},
   "outputs": [],
   "source": [
    "# 取出已标记的裁剪后的图片\n",
    "oo = 'D:\\\\demo\\\\GasMeterData_pre\\\\train_from_cvat_crop_image\\\\image'\n",
    "use_i = []\n",
    "for i in use_list:\n",
    "    res = i.split('\\\\')[-1].split('.')[0]\n",
    "    res_p = f'{crop_data_path}\\\\{res}.jpg'\n",
    "    shutil.copyfile(res_p, f'{oo}\\\\{res}.jpg')"
   ]
  },
  {
   "cell_type": "code",
   "execution_count": null,
   "id": "f260661a",
   "metadata": {},
   "outputs": [],
   "source": [
    "# 对预测结果使用聚类算法，将同一行的数据聚集在一起\n",
    "data_path_base = 'D:\\\\demo\\\\GasMeterAp'\n",
    "pre_txt_path = f'{data_path_base}\\\\labels\\\\val'"
   ]
  },
  {
   "cell_type": "code",
   "execution_count": null,
   "id": "28850066",
   "metadata": {},
   "outputs": [],
   "source": [
    "# 读取标签\n",
    "pre_txt_list = glob.glob(pre_txt_path + '/*')\n",
    "pre_txt_list"
   ]
  },
  {
   "cell_type": "code",
   "execution_count": null,
   "id": "83d701ea",
   "metadata": {},
   "outputs": [],
   "source": [
    "out_res = {}\n",
    "for l in pre_txt_list:\n",
    "    res, features, labels = [], [], []\n",
    "    with open(l, 'r') as f:\n",
    "        lines = f.readlines()\n",
    "        for li in lines:\n",
    "            lxywh = list(map(float, li.strip('\\n').split(' ')))\n",
    "            features.append([lxywh[1], (lxywh[2] + lxywh[4] / 2) * 5])\n",
    "            labels.append(int(lxywh[0]))\n",
    "    features, labels = np.array(features), np.array(labels)\n",
    "    # 通过轮廓系数选定最优的聚类数\n",
    "    choose_clusters, choose_ss = 1, -1\n",
    "    for c in range(2, 11):\n",
    "        \n",
    "        agg = KMeans(n_clusters=c)\n",
    "        pre = agg.fit_predict(features)\n",
    "        ss = silhouette_score(features, pre)\n",
    "        if ss > choose_ss:\n",
    "            choose_ss = ss\n",
    "            choose_clusters = c\n",
    "    print(f'{l} choose clusters: {choose_clusters}')\n",
    "    agg = KMeans(n_clusters=choose_clusters)\n",
    "    pre = agg.fit_predict(features)\n",
    "    # 将同类的放在一起\n",
    "    for i in range(choose_clusters):\n",
    "        ln_idx = np.argwhere(pre == i).flatten()\n",
    "        ln_sort_idx = np.argsort(features[ln_idx, 0].flatten())\n",
    "        res.append(labels[ln_idx][ln_sort_idx])\n",
    "    out_res[l] = res"
   ]
  },
  {
   "cell_type": "code",
   "execution_count": null,
   "id": "a1b1d16c",
   "metadata": {},
   "outputs": [],
   "source": [
    "out_res"
   ]
  },
  {
   "cell_type": "code",
   "execution_count": null,
   "id": "bb6e680a",
   "metadata": {},
   "outputs": [],
   "source": []
  },
  {
   "cell_type": "markdown",
   "id": "6db09481",
   "metadata": {},
   "source": [
    "# 标注数据格式转换"
   ]
  },
  {
   "cell_type": "code",
   "execution_count": 19,
   "id": "7f8fdcb8",
   "metadata": {},
   "outputs": [],
   "source": [
    "data_path = 'D:\\\\demo\\\\GasMeterData_pre\\\\at_v1\\\\obj_train_data'"
   ]
  },
  {
   "cell_type": "code",
   "execution_count": 20,
   "id": "c00dd97d",
   "metadata": {},
   "outputs": [],
   "source": [
    "out_path = 'D:\\\\demo\\\\GasMeterNumber'"
   ]
  },
  {
   "cell_type": "code",
   "execution_count": 21,
   "id": "fd416189",
   "metadata": {},
   "outputs": [],
   "source": [
    "def cvat_to_yolo(data_path, out_path, train_split=0.8):\n",
    "    doc_list = os.listdir(data_path)\n",
    "    images = np.array([x for x in doc_list if '.txt' not in x])\n",
    "    # 数据分为训练集和验证集（用最新的数据做验证集）\n",
    "    keys = [x.split('.')[0].lstrip('img') for x in images]\n",
    "    sort_key_idx = np.argsort(keys)\n",
    "    t_split = int(len(images) * train_split)\n",
    "    train_idx, val_idx = sort_key_idx[:t_split], sort_key_idx[t_split+1:]\n",
    "    train_images, val_images = images[train_idx], images[val_idx]\n",
    "    train_labels = [x.replace('jpg', 'txt') for x in train_images]\n",
    "    val_labels = [x.replace('jpg', 'txt') for x in val_images]\n",
    "    train_image_path = os.path.join(out_path, 'images/train')\n",
    "    val_image_path = os.path.join(out_path, 'images/val')\n",
    "    train_label_path = os.path.join(out_path, 'labels/train')\n",
    "    val_label_path = os.path.join(out_path, 'labels/val')\n",
    "    for obj, obj_path in zip([train_images, val_images, train_labels, val_labels], \n",
    "                             [train_image_path, val_image_path, train_label_path, val_label_path]):\n",
    "        if not os.path.exists(obj_path):\n",
    "            os.makedirs(obj_path)\n",
    "        for ti in obj:\n",
    "            shutil.copyfile(os.path.join(data_path, ti), os.path.join(obj_path, ti))"
   ]
  },
  {
   "cell_type": "code",
   "execution_count": 22,
   "id": "28f62b38",
   "metadata": {},
   "outputs": [],
   "source": [
    "cvat_to_yolo(data_path, out_path)"
   ]
  },
  {
   "cell_type": "code",
   "execution_count": null,
   "id": "785d819f",
   "metadata": {},
   "outputs": [],
   "source": []
  },
  {
   "cell_type": "code",
   "execution_count": null,
   "id": "16659950",
   "metadata": {},
   "outputs": [],
   "source": []
  },
  {
   "cell_type": "code",
   "execution_count": null,
   "id": "e7cab061",
   "metadata": {},
   "outputs": [],
   "source": []
  },
  {
   "cell_type": "code",
   "execution_count": null,
   "id": "5e1b35af",
   "metadata": {},
   "outputs": [],
   "source": []
  }
 ],
 "metadata": {
  "kernelspec": {
   "display_name": "Python 3 (ipykernel)",
   "language": "python",
   "name": "python3"
  },
  "language_info": {
   "codemirror_mode": {
    "name": "ipython",
    "version": 3
   },
   "file_extension": ".py",
   "mimetype": "text/x-python",
   "name": "python",
   "nbconvert_exporter": "python",
   "pygments_lexer": "ipython3",
   "version": "3.9.13"
  }
 },
 "nbformat": 4,
 "nbformat_minor": 5
}
