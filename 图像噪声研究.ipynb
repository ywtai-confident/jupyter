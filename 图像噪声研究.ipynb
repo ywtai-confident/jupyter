{
 "cells": [
  {
   "cell_type": "code",
   "execution_count": 1,
   "id": "5084954b",
   "metadata": {},
   "outputs": [],
   "source": [
    "import torch\n",
    "import numpy as np\n",
    "import pandas as pd\n",
    "import os\n",
    "import sys\n",
    "import cv2\n",
    "import re\n",
    "import matplotlib.pyplot as plt\n",
    "import seaborn as sns\n",
    "from sklearn.mixture import GaussianMixture\n",
    "from sklearn.cluster import AgglomerativeClustering\n",
    "from sklearn.cluster import KMeans\n",
    "from sklearn.metrics import silhouette_score\n",
    "import asyncio\n",
    "import glob\n",
    "import shutil\n",
    "from collections import Counter,defaultdict\n",
    "sns.set_style(\"darkgrid\")"
   ]
  },
  {
   "cell_type": "code",
   "execution_count": 2,
   "id": "d69d436e",
   "metadata": {},
   "outputs": [],
   "source": [
    "data_path = 'D:\\\\demo\\\\yolov5\\\\active\\\\abnormal\\\\images'"
   ]
  },
  {
   "cell_type": "code",
   "execution_count": 3,
   "id": "3a6928a5",
   "metadata": {},
   "outputs": [],
   "source": [
    "blur_image_path = f'{data_path}\\\\img202208132316026750.jpg'\n",
    "normal_image_path = f'{data_path}\\\\img202208150124026120.jpg'"
   ]
  },
  {
   "cell_type": "code",
   "execution_count": 4,
   "id": "9f6f63b7",
   "metadata": {},
   "outputs": [],
   "source": [
    "blur_img = cv2.imread(blur_image_path)\n",
    "normal_img = cv2.imread(normal_image_path)"
   ]
  },
  {
   "cell_type": "code",
   "execution_count": 5,
   "id": "f23532de",
   "metadata": {},
   "outputs": [],
   "source": [
    "# cv2.imshow('blur', blur_img)\n",
    "# cv2.imshow('normal', normal_img)\n",
    "# cv2.waitKey(0)\n",
    "# cv2.destroyAllWindows()"
   ]
  },
  {
   "cell_type": "code",
   "execution_count": 25,
   "id": "0d9b55ea",
   "metadata": {},
   "outputs": [],
   "source": [
    "normal_shape = normal_img.shape"
   ]
  },
  {
   "cell_type": "code",
   "execution_count": 34,
   "id": "4d6268b3",
   "metadata": {},
   "outputs": [],
   "source": [
    "# 尝试得到模糊效果\n",
    "noise = np.array(np.clip(np.random.normal(1, 20, (normal_shape[0], normal_shape[1], 1)), 0, 255), \n",
    "                 dtype=np.uint8)\n",
    "noise_img = normal_img + noise"
   ]
  },
  {
   "cell_type": "code",
   "execution_count": 35,
   "id": "54071f0a",
   "metadata": {},
   "outputs": [
    {
     "data": {
      "text/plain": [
       "True"
      ]
     },
     "execution_count": 35,
     "metadata": {},
     "output_type": "execute_result"
    }
   ],
   "source": [
    "cv2.imwrite('D:\\\\demo\\\\temp_image\\\\noise.jpg', noise_img)\n",
    "cv2.imwrite('D:\\\\demo\\\\temp_image\\\\blur.jpg', blur_img)"
   ]
  },
  {
   "cell_type": "code",
   "execution_count": 28,
   "id": "e23525da",
   "metadata": {},
   "outputs": [],
   "source": [
    "cv2.imshow('blur', blur_img)\n",
    "cv2.imshow('normal', normal_img)\n",
    "cv2.imshow('noise', noise_img)\n",
    "cv2.waitKey(0)\n",
    "cv2.destroyAllWindows()"
   ]
  },
  {
   "cell_type": "code",
   "execution_count": null,
   "id": "47824b62",
   "metadata": {},
   "outputs": [],
   "source": []
  },
  {
   "cell_type": "code",
   "execution_count": null,
   "id": "20d93cf7",
   "metadata": {},
   "outputs": [],
   "source": []
  },
  {
   "cell_type": "code",
   "execution_count": null,
   "id": "8ceef3ef",
   "metadata": {},
   "outputs": [],
   "source": []
  },
  {
   "cell_type": "code",
   "execution_count": null,
   "id": "aebaa873",
   "metadata": {},
   "outputs": [],
   "source": []
  },
  {
   "cell_type": "code",
   "execution_count": null,
   "id": "d6c35598",
   "metadata": {},
   "outputs": [],
   "source": []
  },
  {
   "cell_type": "code",
   "execution_count": null,
   "id": "97cfffb6",
   "metadata": {},
   "outputs": [],
   "source": []
  },
  {
   "cell_type": "code",
   "execution_count": null,
   "id": "faafe088",
   "metadata": {},
   "outputs": [],
   "source": []
  },
  {
   "cell_type": "code",
   "execution_count": null,
   "id": "9807e70d",
   "metadata": {},
   "outputs": [],
   "source": []
  }
 ],
 "metadata": {
  "kernelspec": {
   "display_name": "Python 3 (ipykernel)",
   "language": "python",
   "name": "python3"
  },
  "language_info": {
   "codemirror_mode": {
    "name": "ipython",
    "version": 3
   },
   "file_extension": ".py",
   "mimetype": "text/x-python",
   "name": "python",
   "nbconvert_exporter": "python",
   "pygments_lexer": "ipython3",
   "version": "3.9.13"
  }
 },
 "nbformat": 4,
 "nbformat_minor": 5
}
