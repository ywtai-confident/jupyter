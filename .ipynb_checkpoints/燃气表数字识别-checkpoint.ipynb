{
 "cells": [
  {
   "cell_type": "markdown",
   "id": "yellow-remedy",
   "metadata": {},
   "source": [
    "# 燃气表|电能表表底计数识别\n",
    "主要分为2个任务：\n",
    "1.图片中数字区域检测\n",
    "2.数字区域识别"
   ]
  },
  {
   "cell_type": "code",
   "execution_count": null,
   "id": "balanced-partition",
   "metadata": {},
   "outputs": [],
   "source": [
    "import torch\n",
    "import numpy as np\n",
    "import pandas as pd\n",
    "import os\n",
    "import sys\n",
    "import cv2\n",
    "import re\n",
    "import matplotlib.pyplot as plt\n",
    "import seaborn as sns\n",
    "from sklearn.mixture import GaussianMixture\n",
    "sns.set_style(\"darkgrid\")"
   ]
  },
  {
   "cell_type": "markdown",
   "id": "prescription-egypt",
   "metadata": {},
   "source": [
    "## 数字区域检测\n",
    "数据集准备与分析"
   ]
  },
  {
   "cell_type": "code",
   "execution_count": null,
   "id": "tropical-canada",
   "metadata": {},
   "outputs": [],
   "source": [
    "# 数据路径\n",
    "data_path = 'D:\\数据集整理\\Video'"
   ]
  },
  {
   "cell_type": "code",
   "execution_count": null,
   "id": "instant-interference",
   "metadata": {},
   "outputs": [],
   "source": [
    "image_list = os.listdir(data_path)"
   ]
  },
  {
   "cell_type": "markdown",
   "id": "defensive-aircraft",
   "metadata": {},
   "source": [
    "### 存在需要剔除的反光图片，考虑使用高斯混合模型将正常图和反光图聚成2类"
   ]
  },
  {
   "cell_type": "code",
   "execution_count": null,
   "id": "entitled-velvet",
   "metadata": {},
   "outputs": [],
   "source": [
    "abnormal_image_path = f'{data_path}\\\\474902489004576_20211223070000.png'\n",
    "normal_image_path = f'{data_path}\\\\474902489004576_20211224080000.png'"
   ]
  },
  {
   "cell_type": "code",
   "execution_count": null,
   "id": "adverse-ethnic",
   "metadata": {},
   "outputs": [],
   "source": [
    "image_normal = cv2.imdecode(np.fromfile(normal_image_path, dtype=np.uint8), -1)\n",
    "# temp = cv2.imread(image_path)\n",
    "cv2.imshow('main', image_normal)\n",
    "cv2.waitKey(0)\n",
    "cv2.destroyWindow('main')"
   ]
  },
  {
   "cell_type": "code",
   "execution_count": null,
   "id": "electrical-insert",
   "metadata": {},
   "outputs": [],
   "source": [
    "# 观察数据分布\n",
    "plt.figure(figsize=(15, 10))\n",
    "sns.histplot(image_normal.flatten(), bins=50)"
   ]
  },
  {
   "cell_type": "code",
   "execution_count": null,
   "id": "resident-invite",
   "metadata": {},
   "outputs": [],
   "source": [
    "image_abnormal = cv2.imdecode(np.fromfile(abnormal_image_path, dtype=np.uint8), -1)\n",
    "# temp = cv2.imread(image_path)\n",
    "cv2.imshow('main', image_abnormal)\n",
    "cv2.waitKey(0)\n",
    "cv2.destroyWindow('main')"
   ]
  },
  {
   "cell_type": "code",
   "execution_count": null,
   "id": "steady-biology",
   "metadata": {},
   "outputs": [],
   "source": [
    "# 观察数据分布\n",
    "plt.figure(figsize=(15, 10))\n",
    "sns.histplot(image_abnormal.flatten(), bins=50)"
   ]
  },
  {
   "cell_type": "code",
   "execution_count": null,
   "id": "written-panic",
   "metadata": {},
   "outputs": [],
   "source": [
    "image_data_list = [cv2.imdecode(np.fromfile(f'{data_path}\\\\{i}', dtype=np.uint8), -1) for i in image_list]"
   ]
  },
  {
   "cell_type": "code",
   "execution_count": null,
   "id": "blocked-special",
   "metadata": {},
   "outputs": [],
   "source": []
  },
  {
   "cell_type": "code",
   "execution_count": null,
   "id": "lucky-vertex",
   "metadata": {},
   "outputs": [],
   "source": []
  },
  {
   "cell_type": "code",
   "execution_count": null,
   "id": "falling-bundle",
   "metadata": {},
   "outputs": [],
   "source": []
  },
  {
   "cell_type": "code",
   "execution_count": null,
   "id": "formed-magnitude",
   "metadata": {},
   "outputs": [],
   "source": []
  },
  {
   "cell_type": "code",
   "execution_count": null,
   "id": "bibliographic-reviewer",
   "metadata": {},
   "outputs": [],
   "source": []
  },
  {
   "cell_type": "code",
   "execution_count": null,
   "id": "certified-tower",
   "metadata": {},
   "outputs": [],
   "source": []
  },
  {
   "cell_type": "code",
   "execution_count": null,
   "id": "sunset-lecture",
   "metadata": {},
   "outputs": [],
   "source": []
  },
  {
   "cell_type": "code",
   "execution_count": null,
   "id": "weekly-probe",
   "metadata": {},
   "outputs": [],
   "source": []
  },
  {
   "cell_type": "code",
   "execution_count": null,
   "id": "binding-church",
   "metadata": {},
   "outputs": [],
   "source": []
  },
  {
   "cell_type": "code",
   "execution_count": null,
   "id": "naval-departure",
   "metadata": {},
   "outputs": [],
   "source": []
  },
  {
   "cell_type": "code",
   "execution_count": null,
   "id": "female-external",
   "metadata": {},
   "outputs": [],
   "source": []
  },
  {
   "cell_type": "code",
   "execution_count": null,
   "id": "current-interpretation",
   "metadata": {},
   "outputs": [],
   "source": []
  },
  {
   "cell_type": "code",
   "execution_count": null,
   "id": "lasting-holocaust",
   "metadata": {},
   "outputs": [],
   "source": []
  },
  {
   "cell_type": "code",
   "execution_count": null,
   "id": "facial-orientation",
   "metadata": {},
   "outputs": [],
   "source": []
  },
  {
   "cell_type": "code",
   "execution_count": null,
   "id": "seventh-adjustment",
   "metadata": {},
   "outputs": [],
   "source": []
  }
 ],
 "metadata": {
  "kernelspec": {
   "display_name": "Python 3",
   "language": "python",
   "name": "python3"
  },
  "language_info": {
   "codemirror_mode": {
    "name": "ipython",
    "version": 3
   },
   "file_extension": ".py",
   "mimetype": "text/x-python",
   "name": "python",
   "nbconvert_exporter": "python",
   "pygments_lexer": "ipython3",
   "version": "3.7.9"
  }
 },
 "nbformat": 4,
 "nbformat_minor": 5
}
