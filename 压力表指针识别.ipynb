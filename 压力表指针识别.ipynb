{
 "cells": [
  {
   "cell_type": "code",
   "execution_count": 222,
   "id": "7e187f3c",
   "metadata": {},
   "outputs": [],
   "source": [
    "import torch\n",
    "import numpy as np\n",
    "import pandas as pd\n",
    "import os\n",
    "import sys\n",
    "import cv2\n",
    "import re\n",
    "import matplotlib.pyplot as plt\n",
    "import seaborn as sns\n",
    "from sklearn.mixture import GaussianMixture\n",
    "from sklearn.cluster import AgglomerativeClustering\n",
    "from skimage.metrics import structural_similarity\n",
    "from sklearn.cluster import KMeans\n",
    "from sklearn.metrics import silhouette_score\n",
    "import asyncio\n",
    "import glob\n",
    "import shutil\n",
    "from collections import Counter,defaultdict\n",
    "sns.set_style(\"darkgrid\")"
   ]
  },
  {
   "cell_type": "code",
   "execution_count": 2,
   "id": "c2e37d52",
   "metadata": {},
   "outputs": [],
   "source": [
    "# image_path = 'D:\\\\demo\\\\PressureMeterData\\\\PressureMeterPointer\\\\images\\\\val_pre'\n",
    "# label_path = 'D:\\\\demo\\\\PressureMeterData\\\\PressureMeterPointer\\\\labels\\\\val_pre'\n",
    "image_path = 'D:\\\\demo\\\\PressureMeterData\\\\MeterPointer\\\\images\\\\val'\n",
    "label_path = 'D:\\\\demo\\\\PressureMeterData\\\\MeterPointer\\\\labels\\\\val_pre'"
   ]
  },
  {
   "cell_type": "code",
   "execution_count": 3,
   "id": "227f9df1",
   "metadata": {},
   "outputs": [],
   "source": [
    "class_names = ['0', '1', '2', '3', '4', '5', '6', '7', '8', '9', '.', 'center', 'semi-pointer', 'scale']"
   ]
  },
  {
   "cell_type": "code",
   "execution_count": 4,
   "id": "3360a4d9",
   "metadata": {},
   "outputs": [
    {
     "name": "stdout",
     "output_type": "stream",
     "text": [
      "choose clusters: 5\n",
      "[ 0.   0.4  0.8 21.2  1.6]\n",
      "刻度值存在错误，需要校正\n",
      "[0.  0.4 0.8 1.2 1.6]\n",
      "0.341\n"
     ]
    }
   ],
   "source": [
    "# 读取每张图片和对应标签，进行计算\n",
    "image_list = os.listdir(image_path)\n",
    "for img in image_list:\n",
    "    if img != 'img38.jpg':\n",
    "        continue\n",
    "    img_arr = cv2.imread(os.path.join(image_path, img))\n",
    "    label_df = pd.read_csv(os.path.join(label_path, img.replace('jpg', 'txt')), sep=\" \", header=None)\n",
    "    label_df.columns = ['class', 'xcenter', 'ycenter', 'width', 'height']\n",
    "    label_df['name'] = label_df['class'].apply(lambda x: class_names[x])\n",
    "    # 寻找表盘中心点和指针尖点坐标\n",
    "    center_c = label_df[label_df['name'] == 'center'][['xcenter', 'ycenter']].values[0]\n",
    "    pointer_xywh = label_df[label_df['name'] == 'semi-pointer'][['xcenter', 'ycenter', 'width', 'height']].values[0]\n",
    "    pointer_tip_c = np.array([pointer_xywh[0] - 1 / 2 * pointer_xywh[2], pointer_xywh[1] - 1 / 2 * pointer_xywh[3]])\n",
    "    \n",
    "    # 获取数字和中心坐标点\n",
    "    # 使用k-means数字聚类\n",
    "    numbers = label_df[~label_df['name'].isin(['scale', 'semi-pointer', 'center'])][['xcenter', 'ycenter', 'name']]\n",
    "    features = numbers[['xcenter', 'ycenter']].values\n",
    "    labels = numbers['name'].values\n",
    "    choose_clusters, choose_ss = 1, 0  # 通过轮廓系数选定最优的聚类数\n",
    "    for c in range(2, min(labels.shape[0], 16)):\n",
    "        agg = KMeans(n_clusters=c)\n",
    "        pre = agg.fit_predict(features)\n",
    "        ss = silhouette_score(features, pre)\n",
    "        if ss > choose_ss:\n",
    "            choose_ss = ss\n",
    "            choose_clusters = c\n",
    "    print(f'choose clusters: {choose_clusters}')\n",
    "    agg = KMeans(n_clusters=choose_clusters)\n",
    "    pre = agg.fit_predict(features)\n",
    "    # 相近的数字和刻度进行合并\n",
    "    scale_numbers, scale_c = [], []\n",
    "    scales = label_df[label_df['name'] == 'scale'][['xcenter', 'ycenter']].values\n",
    "    for i in range(choose_clusters):\n",
    "        ln_idx = np.argwhere(pre == i).flatten()\n",
    "        tf, tl = features[ln_idx], labels[ln_idx]\n",
    "        sort_idx = np.argsort(tf[:, 0].flatten())\n",
    "        res_arr = tl[sort_idx]\n",
    "        if '.' not in res_arr and res_arr[0] == '0' and len(res_arr) > 1:\n",
    "            res_arr = res_arr[0] + '.' + res_arr[1:]\n",
    "        scale_numbers.append(float(''.join(res_arr)))\n",
    "        # 寻找离该数字最近的刻度\n",
    "        avg_sc = tf.mean(axis=0)\n",
    "        choose_idx = np.argmin(np.sum((scales - avg_sc)**2, axis=1))\n",
    "        scale_c.append(scales[choose_idx])\n",
    "        \n",
    "    scale_numbers, scale_c = np.array(scale_numbers), np.array(scale_c)\n",
    "    # 根据数据规律，对识别数字进行修正(假设能够识别到刻度和数字，数字内容可以不准确)\n",
    "    scale_angle = np.array([np.arccos((sc[1] - center_c[1]) / np.sqrt(np.sum((sc - center_c)**2))) for sc in scale_c])\n",
    "    scale_angle = np.array([scale_angle[i] if scale_c[i][0] <= center_c[0] else 2*np.pi - scale_angle[i] for i in range(len(scale_angle))])\n",
    "    # 夹角从小到大排序，相当于按照顺时针给刻度值排序\n",
    "    angle_sort_idx = np.argsort(scale_angle)\n",
    "    scale_numbers, scale_c = scale_numbers[angle_sort_idx], scale_c[angle_sort_idx]\n",
    "    # 修正，计算差值\n",
    "    diff_sn = np.diff(scale_numbers)\n",
    "    diff_str = np.array([f'{x:.2f}' for x in diff_sn])\n",
    "    count_diff_str = Counter(diff_str)\n",
    "    print(scale_numbers)\n",
    "    if len(count_diff_str) > 1: # 说明存在刻度值识别错误\n",
    "        print('刻度值存在错误，需要校正')\n",
    "        interval = count_diff_str.most_common()[0][0]\n",
    "        inter_val_first_pos = np.argwhere(diff_str == interval).flatten()[0]\n",
    "        start_n = scale_numbers[inter_val_first_pos] - inter_val_first_pos * float(interval)\n",
    "        end_n = scale_numbers[inter_val_first_pos] + (choose_clusters - 1 - inter_val_first_pos) * float(interval)\n",
    "        scale_numbers = np.linspace(start_n, end_n, choose_clusters)\n",
    "        print(scale_numbers)\n",
    "    \n",
    "    # 寻找距离指针尖点最近的刻度, 以及刻度最近的刻度数字\n",
    "    choose_idx = np.argsort(np.sum((scale_c - pointer_tip_c)**2, axis=1))[:2]\n",
    "    use_scale_c = scale_c[choose_idx]\n",
    "    use_scale_numbers = scale_numbers[choose_idx]\n",
    "    sort_idx = np.argsort(use_scale_numbers)\n",
    "    use_scale_numbers = use_scale_numbers[sort_idx]\n",
    "    use_scale_c = use_scale_c[sort_idx]\n",
    "    \n",
    "    # 计算中心点到刻度、中心点到针尖的直线斜率\n",
    "    slope_tip = (pointer_tip_c[1] - center_c[1]) / (pointer_tip_c[0] - center_c[0])\n",
    "    slope_scale_left = (use_scale_c[0][1] - center_c[1]) / (use_scale_c[0][0] - center_c[0])\n",
    "    slope_scale_right = (use_scale_c[1][1] - center_c[1]) / (use_scale_c[1][0] - center_c[0])\n",
    "    # 计算指针左边刻度到指针的夹角\n",
    "    angle_left_tip = np.arccos((1 + slope_scale_left * slope_tip) / np.sqrt(1 + slope_scale_left ** 2) / np.sqrt(1 + slope_tip ** 2))\n",
    "    angle_left_right = np.arccos((1 + slope_scale_left * slope_scale_right) / np.sqrt(1 + slope_scale_left ** 2) / np.sqrt(1 + slope_scale_right ** 2))\n",
    "    \n",
    "    res = use_scale_numbers[0] + angle_left_tip / angle_left_right * (use_scale_numbers[1] - use_scale_numbers[0])\n",
    "    print(f'{res:.3f}')\n",
    "    \n",
    "    # 将识别结果画在图上并存储\n",
    "#     output_arr = img_arr.copy()\n",
    "#     cv2.putText(output_arr, f'{res:.3f}', (5, 50), cv2.FONT_HERSHEY_COMPLEX, 1, (0, 0, 0), 2)\n",
    "#     cv2.imwrite(os.path.join(image_path, img.replace('.jpg', '_p.jpg')), output_arr)"
   ]
  },
  {
   "cell_type": "code",
   "execution_count": 5,
   "id": "8d9b09e2",
   "metadata": {},
   "outputs": [],
   "source": [
    "# import base64\n",
    "# test_image_path = 'D:\\\\demo\\\\PressureMeterData\\\\PlateDataV2\\\\images\\\\val\\\\img38.jpg'\n",
    "# im = cv2.imread(test_image_path)\n",
    "# b = cv2.imencode('.jpg', im)[1]\n",
    "# b64 = str(base64.b64encode(b), 'utf-8')\n",
    "# with open('pressure_b64.txt', 'w') as f:\n",
    "#     f.write(b64)\n",
    "# cv2.imshow('main', im)\n",
    "# cv2.waitKey(0)\n",
    "# cv2.destroyAllWindows()"
   ]
  },
  {
   "cell_type": "markdown",
   "id": "4d6fac74",
   "metadata": {},
   "source": [
    "# 模型训练-数据集准备"
   ]
  },
  {
   "cell_type": "code",
   "execution_count": 6,
   "id": "80c0a0da",
   "metadata": {},
   "outputs": [],
   "source": [
    "# raw_image_path = 'D:\\\\demo\\\\yolov5\\\\runs\\\\detect\\\\pressure_plate_all\\\\crops\\\\pointer_plate'"
   ]
  },
  {
   "cell_type": "code",
   "execution_count": 7,
   "id": "6f1ecff9",
   "metadata": {},
   "outputs": [],
   "source": [
    "# prefix = 'imageName'\n",
    "# raw_image_list = os.listdir(raw_image_path)\n",
    "# pm_list = [x for x in raw_image_list if prefix in x]"
   ]
  },
  {
   "cell_type": "code",
   "execution_count": 8,
   "id": "e47ad2ce",
   "metadata": {},
   "outputs": [],
   "source": [
    "# pm_list[:10]"
   ]
  },
  {
   "cell_type": "code",
   "execution_count": 9,
   "id": "40eeebef",
   "metadata": {},
   "outputs": [],
   "source": [
    "# store_path = 'D:\\\\demo\\\\PressureMeterData\\\\pressure_meter'"
   ]
  },
  {
   "cell_type": "code",
   "execution_count": 10,
   "id": "d1eeb226",
   "metadata": {},
   "outputs": [],
   "source": [
    "# for fp in pm_list:\n",
    "#     shutil.copyfile(os.path.join(raw_image_path, fp), os.path.join(store_path, fp))"
   ]
  },
  {
   "cell_type": "code",
   "execution_count": 11,
   "id": "74c0ade5",
   "metadata": {},
   "outputs": [],
   "source": [
    "# 数据集整理(文件重命名)\n",
    "# train val split\n",
    "# train_image_path = 'D:\\\\demo\\\\PressureMeterData\\\\PlateDataV2\\\\images\\\\train'\n",
    "# train_label_path = 'D:\\\\demo\\\\PressureMeterData\\\\PlateDataV2\\\\labels\\\\train'\n",
    "# image_label_path = 'D:\\\\demo\\\\PressureMeterData\\\\pp\\\\obj_train_data'\n",
    "# n = 0\n",
    "# all_name_list = [x.rstrip('.jpg') for x in os.listdir(image_label_path) if '.jpg' in x]\n",
    "# for name in all_name_list:\n",
    "#     shutil.copyfile(os.path.join(image_label_path, f'{name}.jpg'), os.path.join(train_image_path, f'img{n}.jpg'))\n",
    "#     shutil.copyfile(os.path.join(image_label_path, f'{name}.txt'), os.path.join(train_label_path, f'img{n}.txt'))\n",
    "#     n += 1"
   ]
  },
  {
   "cell_type": "markdown",
   "id": "a4125d2c",
   "metadata": {},
   "source": [
    "# 对压力表表盘进行聚类，在不同簇内进行采样，得到分布更为合理的样本集"
   ]
  },
  {
   "cell_type": "code",
   "execution_count": 94,
   "id": "b901e497",
   "metadata": {},
   "outputs": [],
   "source": [
    "raw_image_path = 'D:\\\\demo\\\\yolov5\\\\runs\\\\detect\\\\pressure_plate_all\\\\crops\\\\pointer_plate'\n",
    "output_path = 'D:\\\\demo\\\\yolov5\\\\runs\\\\detect\\\\pressure_plate_all'"
   ]
  },
  {
   "cell_type": "code",
   "execution_count": 83,
   "id": "c12fd374",
   "metadata": {},
   "outputs": [],
   "source": [
    "all_pm_list = os.listdir(raw_image_path)"
   ]
  },
  {
   "cell_type": "code",
   "execution_count": 84,
   "id": "8199a5cc",
   "metadata": {},
   "outputs": [],
   "source": [
    "features = []\n",
    "split = 50\n",
    "for i in all_pm_list:\n",
    "    im = cv2.imread(os.path.join(raw_image_path, i))\n",
    "    im_hsv = cv2.cvtColor(im, cv2.COLOR_BGR2HSV)\n",
    "    f = np.histogram(im, split)[0]\n",
    "    f_hsv = np.histogram(im_hsv, split)[0]\n",
    "    fe = np.concatenate([f, f_hsv]).flatten()\n",
    "    features.append(fe)"
   ]
  },
  {
   "cell_type": "code",
   "execution_count": 87,
   "id": "b5a0bec3",
   "metadata": {},
   "outputs": [],
   "source": [
    "features = np.array(features)"
   ]
  },
  {
   "cell_type": "code",
   "execution_count": 93,
   "id": "85b89850",
   "metadata": {},
   "outputs": [
    {
     "data": {
      "text/plain": [
       "(4956, 100)"
      ]
     },
     "execution_count": 93,
     "metadata": {},
     "output_type": "execute_result"
    }
   ],
   "source": [
    "features.shape"
   ]
  },
  {
   "cell_type": "code",
   "execution_count": 98,
   "id": "d6de03a4",
   "metadata": {},
   "outputs": [],
   "source": [
    "# for c in range(2, 24):\n",
    "#     agg = KMeans(n_clusters=c)\n",
    "#     pre = agg.fit_predict(features)\n",
    "#     ss = silhouette_score(features, pre)\n",
    "#     if ss > choose_ss:\n",
    "#         choose_ss = ss\n",
    "#         choose_clusters = c\n",
    "# print(f'choose clusters: {choose_clusters}')\n",
    "choose_clusters = 24\n",
    "agg = KMeans(n_clusters=choose_clusters)\n",
    "pre = agg.fit_predict(features)"
   ]
  },
  {
   "cell_type": "code",
   "execution_count": 96,
   "id": "5a078d33",
   "metadata": {},
   "outputs": [],
   "source": [
    "all_pm_list = np.array(all_pm_list)"
   ]
  },
  {
   "cell_type": "code",
   "execution_count": 99,
   "id": "ef5b2c2e",
   "metadata": {},
   "outputs": [],
   "source": [
    "# 将不同簇内的图片保存到不同的文件夹中\n",
    "for i in range(choose_clusters):\n",
    "    ln_idx = np.argwhere(pre == i).flatten()\n",
    "    current_image_list = all_pm_list[ln_idx]\n",
    "    output_path_c = os.path.join(output_path, f'cluster_{i}')\n",
    "    if os.path.exists(output_path_c):\n",
    "        shutil.rmtree(output_path_c)\n",
    "    os.makedirs(output_path_c)\n",
    "    for j in current_image_list:\n",
    "        shutil.copyfile(os.path.join(raw_image_path, j), os.path.join(output_path_c, j))"
   ]
  },
  {
   "cell_type": "code",
   "execution_count": 122,
   "id": "4a5cc949",
   "metadata": {},
   "outputs": [],
   "source": [
    "# 挑选图片\n",
    "start_i = 4\n",
    "end_i = 23\n",
    "selects = 50\n",
    "for i in range(start_i, end_i + 1):\n",
    "    use_path = os.path.join(output_path, f'cluster_{i}')\n",
    "    select_path = os.path.join(output_path, f'cluster_{i}_select')\n",
    "    if os.path.exists(select_path):\n",
    "        shutil.rmtree(select_path)\n",
    "    os.makedirs(select_path)\n",
    "    im_list = os.listdir(use_path)\n",
    "    # 随机挑选\n",
    "    im_list_random = np.random.permutation(im_list)[:selects]\n",
    "    for j in im_list_random:\n",
    "        shutil.move(os.path.join(use_path, j), select_path)"
   ]
  },
  {
   "cell_type": "code",
   "execution_count": 121,
   "id": "05441089",
   "metadata": {},
   "outputs": [
    {
     "data": {
      "text/plain": [
       "array(['d', 'a', 's'], dtype='<U1')"
      ]
     },
     "execution_count": 121,
     "metadata": {},
     "output_type": "execute_result"
    }
   ],
   "source": [
    "np.random.permutation(['s', 'a', 'd'])"
   ]
  },
  {
   "cell_type": "code",
   "execution_count": null,
   "id": "51928853",
   "metadata": {},
   "outputs": [],
   "source": []
  },
  {
   "cell_type": "code",
   "execution_count": null,
   "id": "f229c79c",
   "metadata": {},
   "outputs": [],
   "source": []
  },
  {
   "cell_type": "markdown",
   "id": "d0d6f866",
   "metadata": {},
   "source": [
    "# 尝试通过FID、SSIM和PSNR计算相似性矩阵，剔除相似度较高的图片"
   ]
  },
  {
   "cell_type": "code",
   "execution_count": 123,
   "id": "455dd299",
   "metadata": {},
   "outputs": [],
   "source": [
    "test_path = 'D:\\\\demo\\\\yolov5\\\\runs\\\\detect\\\\pressure_plate_all\\\\cluster_6_select'"
   ]
  },
  {
   "cell_type": "code",
   "execution_count": 134,
   "id": "3f419a4f",
   "metadata": {},
   "outputs": [],
   "source": [
    "test_image_list = os.listdir(test_path)"
   ]
  },
  {
   "cell_type": "code",
   "execution_count": 255,
   "id": "3b95db21",
   "metadata": {},
   "outputs": [],
   "source": [
    "test_im2 = cv2.imread(os.path.join(test_path, 'imageName_1656313210_53_21_1660091505464.jpg'))\n",
    "test_im1 = cv2.resize(cv2.imread(os.path.join(test_path, 'imageName_1656313210_77_21_1660200097300.jpg')), \n",
    "                      test_im2.shape[:2][::-1])"
   ]
  },
  {
   "cell_type": "code",
   "execution_count": 238,
   "id": "20ea857d",
   "metadata": {},
   "outputs": [],
   "source": [
    "cv2.imshow('im2', test_im2)\n",
    "cv2.imshow('im1', test_im1)\n",
    "cv2.waitKey(0)\n",
    "cv2.destroyAllWindows()"
   ]
  },
  {
   "cell_type": "code",
   "execution_count": 168,
   "id": "f600d767",
   "metadata": {},
   "outputs": [],
   "source": [
    "# 考虑FID需要经过一个网络模型，比较麻烦，PSNR相对容易些\n",
    "def psnr(img1, img2):\n",
    "    mse = np.mean((img1/1.0 - img2/1.0) ** 2)\n",
    "    if mse < 1.0e-10:\n",
    "        return 100\n",
    "    return 10 * np.log10(255.0**2/mse)"
   ]
  },
  {
   "cell_type": "code",
   "execution_count": 256,
   "id": "22cddc24",
   "metadata": {},
   "outputs": [
    {
     "data": {
      "text/plain": [
       "0.44570042720999975"
      ]
     },
     "execution_count": 256,
     "metadata": {},
     "output_type": "execute_result"
    }
   ],
   "source": [
    "structural_similarity(test_im1, test_im2, channel_axis=2)"
   ]
  },
  {
   "cell_type": "code",
   "execution_count": 187,
   "id": "be94e8d3",
   "metadata": {},
   "outputs": [],
   "source": [
    "test_lens = len(test_image_list)\n",
    "psnr_list = []\n",
    "record_im = []\n",
    "record_flag = False\n",
    "psnr_threshold = 17\n",
    "for i in range(test_lens):\n",
    "    for j in range(i+1, test_lens):\n",
    "        im_i = cv2.imread(os.path.join(test_path, test_image_list[i]))\n",
    "        im_j = cv2.imread(os.path.join(test_path, test_image_list[j]))\n",
    "        im_j = cv2.resize(im_j, im_i.shape[:2][::-1])\n",
    "        p = psnr(im_i, im_j)\n",
    "        if np.abs(p - psnr_threshold) <= 0.1 and not record_flag:\n",
    "            record_im.append(test_image_list[i])\n",
    "            record_im.append(test_image_list[j])\n",
    "            record_flag = True\n",
    "        psnr_list.append(p)"
   ]
  },
  {
   "cell_type": "code",
   "execution_count": 188,
   "id": "f6231867",
   "metadata": {},
   "outputs": [
    {
     "data": {
      "text/plain": [
       "['imageName_1656313210_228599994_21_1662543200013.jpg',\n",
       " 'imageName_1656313210_263_21_1661904109186.jpg']"
      ]
     },
     "execution_count": 188,
     "metadata": {},
     "output_type": "execute_result"
    }
   ],
   "source": [
    "record_im"
   ]
  },
  {
   "cell_type": "code",
   "execution_count": 182,
   "id": "87eb607c",
   "metadata": {},
   "outputs": [],
   "source": [
    "# 分布直方图\n",
    "psnr_list = np.array(psnr_list)"
   ]
  },
  {
   "cell_type": "code",
   "execution_count": 216,
   "id": "93aa6c79",
   "metadata": {},
   "outputs": [],
   "source": [
    "# 当2张图片psnr超过指定阈值时，删除标准差较小的图片\n",
    "test_lens = len(test_image_list)\n",
    "psnr_threshold = 16\n",
    "delete_idx = []\n",
    "for i in range(test_lens):\n",
    "    for j in range(i+1, test_lens):\n",
    "        im_i = cv2.imread(os.path.join(test_path, test_image_list[i]))\n",
    "        im_j = cv2.imread(os.path.join(test_path, test_image_list[j]))\n",
    "        im_j = cv2.resize(im_j, im_i.shape[:2][::-1])\n",
    "        p = psnr(im_i, im_j)\n",
    "        if p > psnr_threshold:\n",
    "            std_ib = im_i[:, :, 0].std()\n",
    "            std_ig = im_i[:, :, 1].std()\n",
    "            std_ir = im_i[:, :, 2].std()\n",
    "            std_jb = im_j[:, :, 0].std()\n",
    "            std_jg = im_j[:, :, 1].std()\n",
    "            std_jr = im_j[:, :, 2].std()\n",
    "            std_i = (std_ib + std_ig + std_ir) / 3\n",
    "            std_j = (std_jb + std_jg + std_jr) / 3\n",
    "            if std_i >= std_j:\n",
    "                delete_idx.append(j)\n",
    "            else:\n",
    "                delete_idx.append(i)\n",
    "                break"
   ]
  },
  {
   "cell_type": "code",
   "execution_count": 217,
   "id": "0e2b99bb",
   "metadata": {},
   "outputs": [],
   "source": [
    "delete_idx = np.unique(delete_idx)"
   ]
  },
  {
   "cell_type": "code",
   "execution_count": 218,
   "id": "196226a1",
   "metadata": {},
   "outputs": [],
   "source": [
    "test_out_path = 'D:\\\\demo\\\\yolov5\\\\runs\\\\detect\\\\pressure_plate_all\\\\cluster_6_select_auto'\n",
    "if os.path.exists(test_out_path):\n",
    "    shutil.rmtree(test_out_path)\n",
    "os.makedirs(test_out_path)"
   ]
  },
  {
   "cell_type": "code",
   "execution_count": 184,
   "id": "0e45df7d",
   "metadata": {},
   "outputs": [
    {
     "data": {
      "text/plain": [
       "['imageName_1656313210_119_52_1660732647517.jpg',\n",
       " 'imageName_1656313210_193_22_1661299390872.jpg']"
      ]
     },
     "execution_count": 184,
     "metadata": {},
     "output_type": "execute_result"
    }
   ],
   "source": [
    "record_im"
   ]
  },
  {
   "cell_type": "code",
   "execution_count": 219,
   "id": "d68de189",
   "metadata": {},
   "outputs": [],
   "source": [
    "for i in range(test_lens):\n",
    "    if i not in delete_idx:\n",
    "        shutil.copyfile(os.path.join(test_path, test_image_list[i]), \n",
    "                        os.path.join(test_out_path, test_image_list[i]))"
   ]
  },
  {
   "cell_type": "code",
   "execution_count": null,
   "id": "f880f34b",
   "metadata": {},
   "outputs": [],
   "source": []
  },
  {
   "cell_type": "code",
   "execution_count": null,
   "id": "2d4233da",
   "metadata": {},
   "outputs": [],
   "source": []
  },
  {
   "cell_type": "code",
   "execution_count": null,
   "id": "8b6e8e66",
   "metadata": {},
   "outputs": [],
   "source": []
  },
  {
   "cell_type": "code",
   "execution_count": 229,
   "id": "2402d430",
   "metadata": {},
   "outputs": [],
   "source": [
    "# SSIM\n",
    "test_lens = len(test_image_list)\n",
    "ssim_list = []\n",
    "ssim_threshold = 0.9\n",
    "for i in range(test_lens):\n",
    "    for j in range(i+1, test_lens):\n",
    "        im_i = cv2.imread(os.path.join(test_path, test_image_list[i]))\n",
    "        im_j = cv2.imread(os.path.join(test_path, test_image_list[j]))\n",
    "        im_j = cv2.resize(im_j, im_i.shape[:2][::-1])\n",
    "        s = structural_similarity(im_i, im_j, channel_axis=2)\n",
    "        ssim_list.append(s)"
   ]
  },
  {
   "cell_type": "code",
   "execution_count": 230,
   "id": "efb53d2c",
   "metadata": {},
   "outputs": [
    {
     "data": {
      "text/plain": [
       "<seaborn.axisgrid.FacetGrid at 0x1e20ecdf490>"
      ]
     },
     "execution_count": 230,
     "metadata": {},
     "output_type": "execute_result"
    },
    {
     "data": {
      "image/png": "[encoded data removed]",
      "text/plain": [
       "<Figure size 500x500 with 1 Axes>"
      ]
     },
     "metadata": {},
     "output_type": "display_data"
    }
   ],
   "source": [
    "sns.displot(ssim_list)"
   ]
  },
  {
   "cell_type": "code",
   "execution_count": 240,
   "id": "a0b1eb12",
   "metadata": {},
   "outputs": [],
   "source": [
    "test_lens = len(test_image_list)\n",
    "ssim_threshold = 0.4\n",
    "delete_idx = []\n",
    "for i in range(test_lens):\n",
    "    for j in range(i+1, test_lens):\n",
    "        im_i = cv2.imread(os.path.join(test_path, test_image_list[i]))\n",
    "        im_j = cv2.imread(os.path.join(test_path, test_image_list[j]))\n",
    "        im_j = cv2.resize(im_j, im_i.shape[:2][::-1])\n",
    "        p = structural_similarity(im_i, im_j, channel_axis=2)\n",
    "        if p > ssim_threshold:\n",
    "            std_ib = im_i[:, :, 0].std()\n",
    "            std_ig = im_i[:, :, 1].std()\n",
    "            std_ir = im_i[:, :, 2].std()\n",
    "            std_jb = im_j[:, :, 0].std()\n",
    "            std_jg = im_j[:, :, 1].std()\n",
    "            std_jr = im_j[:, :, 2].std()\n",
    "            std_i = (std_ib + std_ig + std_ir) / 3\n",
    "            std_j = (std_jb + std_jg + std_jr) / 3\n",
    "            if std_i >= std_j:\n",
    "                delete_idx.append(j)\n",
    "            else:\n",
    "                delete_idx.append(i)\n",
    "                break"
   ]
  },
  {
   "cell_type": "code",
   "execution_count": 241,
   "id": "e127c4de",
   "metadata": {},
   "outputs": [],
   "source": [
    "delete_idx = np.unique(delete_idx)"
   ]
  },
  {
   "cell_type": "code",
   "execution_count": 242,
   "id": "81b88d13",
   "metadata": {},
   "outputs": [],
   "source": [
    "test_out_path = r'D:\\demo\\yolov5\\runs\\detect\\pressure_plate_all\\cluster_6_select_auto'\n",
    "if os.path.exists(test_out_path):\n",
    "    shutil.rmtree(test_out_path)\n",
    "os.makedirs(test_out_path)"
   ]
  },
  {
   "cell_type": "code",
   "execution_count": 243,
   "id": "4363bc95",
   "metadata": {},
   "outputs": [],
   "source": [
    "for i in range(test_lens):\n",
    "    if i not in delete_idx:\n",
    "        shutil.copyfile(os.path.join(test_path, test_image_list[i]), \n",
    "                        os.path.join(test_out_path, test_image_list[i]))"
   ]
  },
  {
   "cell_type": "code",
   "execution_count": 267,
   "id": "a98ddef3",
   "metadata": {},
   "outputs": [
    {
     "data": {
      "text/plain": [
       "list"
      ]
     },
     "execution_count": 267,
     "metadata": {},
     "output_type": "execute_result"
    }
   ],
   "source": [
    "type(glob.glob(os.path.join(test_path, '*')))"
   ]
  },
  {
   "cell_type": "code",
   "execution_count": 294,
   "id": "2d38e430",
   "metadata": {},
   "outputs": [
    {
     "data": {
      "text/plain": [
       "['D:',\n",
       " 'demo',\n",
       " 'yolov5',\n",
       " 'runs',\n",
       " 'detect',\n",
       " 'pressure_plate_all',\n",
       " 'cluster_6_select']"
      ]
     },
     "execution_count": 294,
     "metadata": {},
     "output_type": "execute_result"
    }
   ],
   "source": [
    "t = r'dsf/sdf/sdf'\n",
    "re.split(r'\\\\|/', test_path)"
   ]
  },
  {
   "cell_type": "code",
   "execution_count": 295,
   "id": "728a6274",
   "metadata": {},
   "outputs": [],
   "source": [
    "delete_path = r'D:\\demo\\yolov5\\runs\\detect\\pressure_plate_all\\cluster_6_select'"
   ]
  },
  {
   "cell_type": "code",
   "execution_count": 307,
   "id": "a0666c3c",
   "metadata": {},
   "outputs": [],
   "source": [
    "for i in glob.glob(os.path.join(delete_path, '*')):\n",
    "    if re.match(r'.*(81643|70538|23368|73745|92533|81893)', i):\n",
    "        os.remove(i)"
   ]
  },
  {
   "cell_type": "code",
   "execution_count": null,
   "id": "22958e4a",
   "metadata": {},
   "outputs": [],
   "source": []
  },
  {
   "cell_type": "code",
   "execution_count": null,
   "id": "4069ba6a",
   "metadata": {},
   "outputs": [],
   "source": []
  },
  {
   "cell_type": "code",
   "execution_count": null,
   "id": "08340d52",
   "metadata": {},
   "outputs": [],
   "source": []
  },
  {
   "cell_type": "code",
   "execution_count": null,
   "id": "eed21e2d",
   "metadata": {},
   "outputs": [],
   "source": []
  },
  {
   "cell_type": "code",
   "execution_count": null,
   "id": "80633a63",
   "metadata": {},
   "outputs": [],
   "source": []
  },
  {
   "cell_type": "code",
   "execution_count": null,
   "id": "0d1dfbd7",
   "metadata": {},
   "outputs": [],
   "source": []
  },
  {
   "cell_type": "code",
   "execution_count": null,
   "id": "678d4ad4",
   "metadata": {},
   "outputs": [],
   "source": []
  }
 ],
 "metadata": {
  "kernelspec": {
   "display_name": "Python 3 (ipykernel)",
   "language": "python",
   "name": "python3"
  },
  "language_info": {
   "codemirror_mode": {
    "name": "ipython",
    "version": 3
   },
   "file_extension": ".py",
   "mimetype": "text/x-python",
   "name": "python",
   "nbconvert_exporter": "python",
   "pygments_lexer": "ipython3",
   "version": "3.9.13"
  }
 },
 "nbformat": 4,
 "nbformat_minor": 5
}
