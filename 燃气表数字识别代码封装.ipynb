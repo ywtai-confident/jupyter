{
 "cells": [
  {
   "cell_type": "code",
   "execution_count": 1,
   "id": "1c441232",
   "metadata": {},
   "outputs": [],
   "source": [
    "import torch\n",
    "import numpy as np\n",
    "import pandas as pd\n",
    "import os\n",
    "import sys\n",
    "import cv2\n",
    "import re\n",
    "import matplotlib.pyplot as plt\n",
    "import seaborn as sns\n",
    "from sklearn.mixture import GaussianMixture\n",
    "from sklearn.cluster import AgglomerativeClustering\n",
    "from sklearn.cluster import KMeans\n",
    "from sklearn.metrics import silhouette_score\n",
    "import asyncio\n",
    "import glob\n",
    "import shutil\n",
    "from collections import Counter,defaultdict\n",
    "sns.set_style(\"darkgrid\")"
   ]
  },
  {
   "cell_type": "markdown",
   "id": "f90c2d44",
   "metadata": {},
   "source": [
    "# 数字识别"
   ]
  },
  {
   "cell_type": "code",
   "execution_count": 2,
   "id": "5cc012ed",
   "metadata": {},
   "outputs": [],
   "source": [
    "# 路径标识\n",
    "model_path = 'D:\\\\demo\\\\yolov5'\n",
    "model_name = 'gas_number.pt'"
   ]
  },
  {
   "cell_type": "code",
   "execution_count": 3,
   "id": "539601e2",
   "metadata": {},
   "outputs": [],
   "source": [
    "# 测试图片\n",
    "image_path = 'D:\\\\demo\\\\GasMeterNumber\\\\images\\\\test\\\\img2000.jpg'"
   ]
  },
  {
   "cell_type": "code",
   "execution_count": 4,
   "id": "7aa06ffc",
   "metadata": {},
   "outputs": [],
   "source": [
    "# 异常测试图片处理\n",
    "abnormal_image_path = 'D:\\\\demo\\\\abnormal_data\\\\abnormal2.jpg'"
   ]
  },
  {
   "cell_type": "code",
   "execution_count": null,
   "id": "462c8654",
   "metadata": {},
   "outputs": [],
   "source": [
    "temp_path = 'D:\\\\demo\\\\GasMeterNumber\\\\images\\\\test'\n",
    "out_path = 'D:\\\\demo\\\\GasMeterNumber_active\\\\images\\\\test'\n",
    "temp_label_path = 'D:\\\\demo\\\\GasMeterNumber\\\\labels\\\\test'\n",
    "out_label_path = 'D:\\\\demo\\\\GasMeterNumber_active\\\\labels\\\\test'\n",
    "if not os.path.exists(out_path):\n",
    "    os.makedirs(out_path)\n",
    "if not os.path.exists(out_label_path):\n",
    "    os.makedirs(out_label_path)\n",
    "for old in os.listdir(temp_path):\n",
    "    ct = datetime.now().strftime('%Y%m%d%H%M%S%f')[:-2]\n",
    "    new_name = f'img{ct}.jpg'\n",
    "    shutil.copyfile(f'{temp_path}\\\\{old}', f'{out_path}\\\\{new_name}')\n",
    "    old_txt_name = old.replace('jpg', 'txt')\n",
    "    new_txt_name = f'img{ct}.txt'\n",
    "    shutil.copyfile(f'{temp_label_path}\\\\{old_txt_name}', f'{out_label_path}\\\\{new_txt_name}')\n",
    "    time.sleep(0.1)"
   ]
  },
  {
   "cell_type": "code",
   "execution_count": 5,
   "id": "7a04b2e4",
   "metadata": {},
   "outputs": [],
   "source": [
    "class GasNumberRecognition:\n",
    "    \n",
    "    def __init__(self, model_path=None, model_name=None, nms_conf=0.3, iou=0.3):\n",
    "        self.model_path = model_path\n",
    "        self.model_name = model_name\n",
    "        if model_path is not None and model_name is not None:\n",
    "            self.model = torch.hub.load(model_path, 'custom', \n",
    "                                        path=f'{model_path}\\\\models_pt\\\\{model_name}',\n",
    "                                        source='local')\n",
    "        else:\n",
    "            self.model = None\n",
    "        self.model.conf = nms_conf\n",
    "        self.model.iou = iou\n",
    "    \n",
    "    def predict(self, image, inference_size=288):\n",
    "        result = self.model(image, size=inference_size)\n",
    "        predict_df = result.pandas().xyxy[0]\n",
    "        print(predict_df)\n",
    "        res, sort_key = [], []\n",
    "        if not predict_df.empty:\n",
    "            # 根据坐标构建特征对图片进行聚类，将数字分组\n",
    "            features = np.array([[(s['xmax'] + s['xmin']) / 2, s['ymax'] * 5]\n",
    "                                 for _, s in predict_df.iterrows()])\n",
    "            labels = predict_df['name'].values\n",
    "            # choose_clusters = 6\n",
    "            choose_clusters, choose_ss = 1, 0 # 通过轮廓系数选定最优的聚类数\n",
    "            for c in range(2, min(labels.shape[0]-1, 11)):\n",
    "                agg = KMeans(n_clusters=c)\n",
    "                pre = agg.fit_predict(features)\n",
    "                ss = silhouette_score(features, pre)\n",
    "                if ss > choose_ss:\n",
    "                    choose_ss = ss\n",
    "                    choose_clusters = c\n",
    "            print(f'choose clusters: {choose_clusters}')\n",
    "            agg = KMeans(n_clusters=choose_clusters)\n",
    "            pre = agg.fit_predict(features)\n",
    "            # 存储识别结果\n",
    "            for i in range(choose_clusters):\n",
    "                ln_idx = np.argwhere(pre == i).flatten()\n",
    "                ln_sort_idx = np.argsort(features[ln_idx, 0].flatten())\n",
    "                res_arr = labels[ln_idx][ln_sort_idx]\n",
    "                res_str = ''.join(res_arr)\n",
    "                res.append(res_str)\n",
    "                temp_key = features[ln_idx][ln_sort_idx][-1]\n",
    "                sort_key.append((temp_key[0], temp_key[1]))\n",
    "            sort_key = np.array(sort_key, dtype=[('x', '<f8'), ('y', '<f8')])\n",
    "            sort_idx = np.argsort(sort_key, order=('y', 'x'))\n",
    "            res = np.array(res, dtype='U25')[sort_idx]\n",
    "            print(res)\n",
    "        else:\n",
    "            res = np.array(res)\n",
    "        return predict_df, res\n",
    "    \n",
    "    def check_result(self, predict_df, res, conf_threshold=0.5, max_number=6,\n",
    "                     number_length_min = (10, 3, 3, 2, 4, 6),\n",
    "                     float_places=(4, 2, 2, 1, 1, 2)):\n",
    "        # 主要校验小数位和数字长度的合法性\n",
    "        abnormal_details, abnormal_code = '', 0 \n",
    "        if len(res) == 0:\n",
    "            abnormal_details = '无识别结果'\n",
    "            abnormal_code = -1\n",
    "        else:\n",
    "            # 能够全部识别数字时才对小数位进行校正，否则只对总量进行校正\n",
    "            if len(res) == max_number:\n",
    "                iter_counts = len(res)\n",
    "            else:\n",
    "                iter_counts = 1\n",
    "            for i in range(iter_counts):\n",
    "                current = res[i]\n",
    "                if '.' not in current:\n",
    "                    if len(current) < number_length_min[i] and abnormal_code < 5:\n",
    "                        abnormal_details = '存在数字识别不准确，小数点未识别的情况'\n",
    "                        abnormal_code = 5\n",
    "                    else:\n",
    "                        # 对小数点进行补偿\n",
    "                        temp = current[:-float_places[i]] + '.' + current[-float_places[i]:]\n",
    "                        res[i] = temp\n",
    "                        if abnormal_code < 3:\n",
    "                            abnormal_details = '存在数字识别准确，小数点未识别的情况'\n",
    "                            abnormal_code = 3\n",
    "                else:\n",
    "                    if len(current) - 1 < number_length_min[i] and abnormal_code < 4:\n",
    "                        abnormal_details = '存在数字识别不准确，小数点已识别的情况'\n",
    "                        abnormal_code = 4\n",
    "            \n",
    "            if iter_counts == 1 and abnormal_code == 0:\n",
    "                abnormal_details = '总量已校正，但存在整组数字未识别的情况'\n",
    "                abnormal_code = 1\n",
    "            \n",
    "            # 检验置信度\n",
    "            if not predict_df[predict_df['confidence'] < conf_threshold].empty and abnormal_code == 0:\n",
    "                abnormal_details = '存在置信度低于阈值的识别数字'\n",
    "                abnormal_code = 2\n",
    "            \n",
    "        return abnormal_details, abnormal_code"
   ]
  },
  {
   "cell_type": "code",
   "execution_count": 6,
   "id": "fb3f1f9a",
   "metadata": {},
   "outputs": [
    {
     "name": "stderr",
     "output_type": "stream",
     "text": [
      "C:\\Users\\zhangym\\AppData\\Roaming\\Python\\Python39\\site-packages\\torchvision\\io\\image.py:11: UserWarning: Failed to load image Python extension: Could not find module 'C:\\Users\\zhangym\\AppData\\Roaming\\Python\\Python39\\site-packages\\torchvision\\image.pyd' (or one of its dependencies). Try using the full path with constructor syntax.\n",
      "  warn(f\"Failed to load image Python extension: {e}\")\n",
      "YOLOv5  v6.1-253-g75bbaa8 Python-3.9.12 torch-1.10.2+cu102 CUDA:0 (NVIDIA GeForce GTX 1650 SUPER, 4096MiB)\n",
      "\n",
      "Fusing layers... \n",
      "Model summary: 213 layers, 7039792 parameters, 0 gradients\n",
      "Adding AutoShape... \n"
     ]
    },
    {
     "name": "stdout",
     "output_type": "stream",
     "text": [
      "          xmin        ymin        xmax        ymax  confidence  class name\n",
      "0   123.676804   23.839859  139.244751   55.632549    0.936890      8    8\n",
      "1   102.737877  106.170914  117.950150  138.280090    0.934933      0    0\n",
      "2   188.926636   28.240492  204.632736   59.776665    0.934344      8    8\n",
      "3    85.712494  105.394958  101.339195  137.595474    0.933167      2    2\n",
      "4   146.815247  147.859146  162.000732  179.146759    0.932346      8    8\n",
      "5    88.057388   64.530647  103.442581   96.114571    0.932150      0    0\n",
      "6   121.303802   65.903542  136.872253   97.994659    0.932117      0    0\n",
      "7   215.991379   71.440903  231.833450  103.331947    0.931151      2    2\n",
      "8   104.705681   65.037025  119.971977   96.850487    0.931043      0    0\n",
      "9    75.058922   21.252985   89.911194   53.725464    0.929757      5    5\n",
      "10  214.564407  113.213921  229.210159  144.938507    0.929542      6    6\n",
      "11  172.636475   27.641584  187.692123   58.676868    0.929489      6    6\n",
      "12  163.448975  148.607162  179.069550  180.146606    0.929450      8    8\n",
      "13   90.997452   22.192419  106.242516   54.286835    0.928787      6    6\n",
      "14  206.247894   29.459690  221.366379   60.324463    0.927785      9    9\n",
      "15  106.956238   22.579756  122.709976   55.321972    0.927606      2    2\n",
      "16  114.610634  147.633453  129.755508  175.519653    0.927082      4    4\n",
      "17   58.809868   20.283520   73.753365   52.514820    0.926677      3    3\n",
      "18  230.625336  114.008224  245.607285  144.741806    0.925554      2    2\n",
      "19  250.051956   74.025055  264.786957  105.220345    0.922199      5    5\n",
      "20  233.635681   74.737320  248.596008  102.101349    0.918875      4    4\n",
      "21  140.725922   25.186674  155.359406   56.694511    0.918821      5    5\n",
      "22  156.726288   26.720011  171.670044   57.788429    0.916009      9    9\n",
      "23   90.114418  146.337204   97.412956  173.177963    0.893104      1    1\n",
      "24  206.328384  115.155045  213.525833  143.055771    0.892027      1    1\n",
      "25  105.839302  147.784607  113.251915  174.622269    0.891576      1    1\n",
      "26   77.959999  107.646423   85.352951  135.390274    0.883306      1    1\n",
      "27  190.258713  113.830551  197.679169  141.659668    0.882274      1    1\n",
      "28  130.531601  148.726028  145.885712  176.268097    0.841364      4    4\n",
      "29  227.923538   96.797836  233.877441  103.555344    0.773308     10    .\n",
      "30   97.806137  131.032288  104.035744  137.881638    0.759096     10    .\n",
      "31  152.097931   50.798222  157.442490   56.999622    0.756256     10    .\n",
      "32  141.967484  171.886093  147.745148  178.701065    0.749807     10    .\n",
      "33  225.807297  138.006714  232.070023  144.921173    0.747123     10    .\n",
      "34   99.840157   89.820496  105.439270   96.119743    0.745246     10    .\n",
      "choose clusters: 6\n",
      "['356285.9689' '0.00' '2.45' '12.0' '116.2' '1144.88']\n"
     ]
    },
    {
     "data": {
      "text/plain": [
       "('', 0)"
      ]
     },
     "execution_count": 6,
     "metadata": {},
     "output_type": "execute_result"
    }
   ],
   "source": [
    "gnr = GasNumberRecognition(model_path, model_name)\n",
    "predict_df, res = gnr.predict(image_path)\n",
    "gnr.check_result(predict_df, res)"
   ]
  },
  {
   "cell_type": "markdown",
   "id": "6e4f795b",
   "metadata": {},
   "source": [
    "# 表盘识别"
   ]
  },
  {
   "cell_type": "code",
   "execution_count": 7,
   "id": "3e05b9d7",
   "metadata": {},
   "outputs": [],
   "source": [
    "model_path = 'D:\\\\demo\\\\yolov5'\n",
    "model_name = 'gas_plate-v2.pt'"
   ]
  },
  {
   "cell_type": "code",
   "execution_count": 8,
   "id": "26e45330",
   "metadata": {},
   "outputs": [],
   "source": [
    "image_path = 'D:\\\\demo\\\\GasMeterData\\\\images\\\\val\\\\img2000.jpg'\n",
    "crop_path = 'D:\\\\demo\\\\GasMeterCrop'\n",
    "abnormal_image_path = 'D:\\\\demo\\\\abnormal_data\\\\abnormal1.jpg'"
   ]
  },
  {
   "cell_type": "code",
   "execution_count": 9,
   "id": "b5014572",
   "metadata": {},
   "outputs": [],
   "source": [
    "class GasPlateRecognition:\n",
    "    \n",
    "    def __init__(self, model_path=None, model_name=None, nms_conf=0.7, max_det=1):\n",
    "        self.model_path = model_path\n",
    "        self.model_name = model_name\n",
    "        if model_path is not None and model_name is not None:\n",
    "            self.model = torch.hub.load(model_path, 'custom', \n",
    "                                        path=f'{model_path}\\\\models_pt\\\\{model_name}', \n",
    "                                        source='local')\n",
    "        else:\n",
    "            self.model = None\n",
    "        self.model.conf = nms_conf\n",
    "        self.model.max_det = max_det\n",
    "    \n",
    "    def predict(self, image, crop_path=None, inference_size=800):\n",
    "        result = self.model(image, size=inference_size)\n",
    "        if crop_path is not None:\n",
    "            crop = result.crop(save=True, save_dir=crop_path)\n",
    "        else:\n",
    "            crop = result.crop(save=False)\n",
    "        res = np.array([])\n",
    "        if len(crop) > 0:\n",
    "            res = crop[0]['im']\n",
    "        return res\n",
    "    \n",
    "    def check_result(self, res):\n",
    "        print(res.shape)\n",
    "        abnormal_details, abnormal_code = '', 0\n",
    "        if len(res) == 0:\n",
    "            abnormal_details = '无识别结果'\n",
    "            abnormal_code = -1\n",
    "        return abnormal_details, abnormal_code"
   ]
  },
  {
   "cell_type": "code",
   "execution_count": 10,
   "id": "1f28b1e6",
   "metadata": {},
   "outputs": [
    {
     "name": "stderr",
     "output_type": "stream",
     "text": [
      "YOLOv5  v6.1-253-g75bbaa8 Python-3.9.12 torch-1.10.2+cu102 CUDA:0 (NVIDIA GeForce GTX 1650 SUPER, 4096MiB)\n",
      "\n",
      "Fusing layers... \n",
      "Model summary: 213 layers, 7012822 parameters, 0 gradients\n",
      "Adding AutoShape... \n",
      "Saved 1 image to \u001b[1mD:\\demo\\GasMeterCrop\u001b[0m\n",
      "Saved results to D:\\demo\\GasMeterCrop\n",
      "\n"
     ]
    },
    {
     "data": {
      "text/plain": [
       "(223, 295, 3)"
      ]
     },
     "execution_count": 10,
     "metadata": {},
     "output_type": "execute_result"
    }
   ],
   "source": [
    "gpr = GasPlateRecognition(model_path, model_name)\n",
    "res = gpr.predict(image_path, crop_path)\n",
    "res.shape"
   ]
  },
  {
   "cell_type": "code",
   "execution_count": 11,
   "id": "a466c2a4",
   "metadata": {},
   "outputs": [],
   "source": [
    "class NumberRecognition:\n",
    "    \n",
    "    def __init__(self, model_path, plate_model_name=None, number_model_name=None):\n",
    "        self.model_path = model_path\n",
    "        self.plate_model_name = plate_model_name\n",
    "        self.number_model_name = number_model_name\n",
    "        self.plate_model = GasPlateRecognition(model_path, plate_model_name)\n",
    "        self.number_model = GasNumberRecognition(model_path, number_model_name)\n",
    "        \n",
    "    def predict(self, image):\n",
    "        plate_res = self.plate_model.predict(image)\n",
    "        plate_abnormal_info = self.plate_model.check_result(plate_res)\n",
    "        res = []\n",
    "        if plate_abnormal_info[1] == 0:\n",
    "            predict_df, number_res = self.number_model.predict(plate_res)\n",
    "            number_abnormal_info = self.number_model.check_result(predict_df, number_res)\n",
    "            res.append(f'{number_abnormal_info[1]}')\n",
    "            res.extend(number_res)\n",
    "        else:\n",
    "            res.append(plate_abnormal_info[1])\n",
    "        return ' '.join(res)"
   ]
  },
  {
   "cell_type": "code",
   "execution_count": 12,
   "id": "3be32f85",
   "metadata": {},
   "outputs": [],
   "source": [
    "model_path = 'D:\\\\demo\\\\yolov5'\n",
    "plate_model_name = 'gas_plate-v2.pt'\n",
    "number_model_name = 'gas_number.pt'\n",
    "normal_image_path = 'D:\\\\demo\\\\GasMeterData\\\\images\\\\val\\\\img2000.jpg'"
   ]
  },
  {
   "cell_type": "code",
   "execution_count": 13,
   "id": "22529272",
   "metadata": {},
   "outputs": [
    {
     "name": "stderr",
     "output_type": "stream",
     "text": [
      "YOLOv5  v6.1-253-g75bbaa8 Python-3.9.12 torch-1.10.2+cu102 CUDA:0 (NVIDIA GeForce GTX 1650 SUPER, 4096MiB)\n",
      "\n",
      "Fusing layers... \n",
      "Model summary: 213 layers, 7012822 parameters, 0 gradients\n",
      "Adding AutoShape... \n",
      "YOLOv5  v6.1-253-g75bbaa8 Python-3.9.12 torch-1.10.2+cu102 CUDA:0 (NVIDIA GeForce GTX 1650 SUPER, 4096MiB)\n",
      "\n",
      "Fusing layers... \n",
      "Model summary: 213 layers, 7039792 parameters, 0 gradients\n",
      "Adding AutoShape... \n"
     ]
    },
    {
     "name": "stdout",
     "output_type": "stream",
     "text": [
      "(223, 295, 3)\n",
      "          xmin        ymin        xmax        ymax  confidence  class name\n",
      "0   208.538376  111.339600  223.039597  142.327576    0.930862      6    6\n",
      "1    85.039299   20.158682  100.026474   51.827629    0.930735      6    6\n",
      "2   101.041580   20.937624  116.746185   53.909344    0.930087      2    2\n",
      "3   117.787888   22.534597  133.119843   54.373932    0.929325      8    8\n",
      "4   134.687790   23.573544  149.394241   55.731560    0.929276      5    5\n",
      "5   150.691940   24.894943  165.561813   55.594555    0.926253      9    9\n",
      "6   182.830338   26.378040  198.292542   57.562729    0.925158      8    8\n",
      "7   199.999786   27.514610  215.176788   59.196529    0.924687      9    9\n",
      "8   166.533798   25.375071  181.559967   56.340034    0.923546      6    6\n",
      "9   140.876038  146.090637  156.222183  177.566986    0.923067      8    8\n",
      "10   52.967480   18.708443   67.699997   50.697269    0.922901      3    3\n",
      "11   80.264572  104.181831   95.069084  135.292969    0.922351      2    2\n",
      "12  108.571259  145.467361  123.672981  174.343292    0.921105      4    4\n",
      "13  224.878738  112.372398  239.916733  143.787796    0.919558      2    2\n",
      "14  227.416641   72.518173  242.495987  100.917053    0.914331      4    4\n",
      "15   96.830658  104.576225  111.840546  136.542374    0.913838      0    0\n",
      "16  157.748459  146.490433  172.666534  177.929260    0.912883      8    8\n",
      "17  210.056900   69.968216  225.608109  102.057945    0.912488      2    2\n",
      "18  243.861633   71.740753  258.430420  104.085297    0.908492      5    5\n",
      "19   81.485374   61.535416   97.682503   95.297005    0.908156      0    0\n",
      "20  124.742264  146.974777  139.693161  174.520721    0.904805      4    4\n",
      "21   68.842545   19.458122   83.545433   51.866001    0.898123      5    5\n",
      "22   98.795052   63.189995  113.772331   94.948364    0.897413      0    0\n",
      "23   83.773903  144.952744   91.116051  172.182144    0.886246      1    1\n",
      "24  115.065681   64.092148  130.599564   96.426224    0.881153      0    0\n",
      "25  183.488022  112.314873  191.156342  140.226669    0.876488      1    1\n",
      "26   99.844208  145.739105  107.540787  173.727509    0.875185      1    1\n",
      "27  199.694397  112.926376  207.164597  140.976868    0.864793      1    1\n",
      "28   72.218491  106.042664   79.304604  133.335892    0.857100      1    1\n",
      "29   93.530640   87.299065   99.708511   94.071777    0.744546     10    .\n",
      "30  135.924835  170.077881  141.959671  177.073837    0.712941     10    .\n",
      "31  220.158615  135.638535  226.361877  142.790222    0.696813     10    .\n",
      "32  146.270782   48.502777  152.249161   55.542019    0.591241     10    .\n",
      "33   91.710129  129.185150   97.893066  136.483856    0.480514     10    .\n",
      "choose clusters: 6\n",
      "['356285.9689' '0.00' '245' '12.0' '116.2' '1144.88']\n"
     ]
    },
    {
     "data": {
      "text/plain": [
       "'3 356285.9689 0.00 2.45 12.0 116.2 1144.88'"
      ]
     },
     "execution_count": 13,
     "metadata": {},
     "output_type": "execute_result"
    }
   ],
   "source": [
    "nr = NumberRecognition(model_path, plate_model_name, number_model_name)\n",
    "nr.predict(normal_image_path)"
   ]
  },
  {
   "cell_type": "code",
   "execution_count": null,
   "id": "50d034be",
   "metadata": {},
   "outputs": [],
   "source": []
  },
  {
   "cell_type": "code",
   "execution_count": null,
   "id": "d8639782",
   "metadata": {},
   "outputs": [],
   "source": []
  },
  {
   "cell_type": "code",
   "execution_count": null,
   "id": "f346d934",
   "metadata": {},
   "outputs": [],
   "source": []
  },
  {
   "cell_type": "code",
   "execution_count": null,
   "id": "86e0e880",
   "metadata": {},
   "outputs": [],
   "source": []
  },
  {
   "cell_type": "code",
   "execution_count": null,
   "id": "3acc97f4",
   "metadata": {},
   "outputs": [],
   "source": []
  },
  {
   "cell_type": "code",
   "execution_count": null,
   "id": "f397988f",
   "metadata": {},
   "outputs": [],
   "source": []
  },
  {
   "cell_type": "code",
   "execution_count": null,
   "id": "eb924667",
   "metadata": {},
   "outputs": [],
   "source": []
  },
  {
   "cell_type": "code",
   "execution_count": null,
   "id": "9b9756b2",
   "metadata": {},
   "outputs": [],
   "source": []
  },
  {
   "cell_type": "code",
   "execution_count": null,
   "id": "eea3917f",
   "metadata": {},
   "outputs": [],
   "source": []
  },
  {
   "cell_type": "code",
   "execution_count": null,
   "id": "8c53436f",
   "metadata": {},
   "outputs": [],
   "source": []
  }
 ],
 "metadata": {
  "kernelspec": {
   "display_name": "Python 3 (ipykernel)",
   "language": "python",
   "name": "python3"
  },
  "language_info": {
   "codemirror_mode": {
    "name": "ipython",
    "version": 3
   },
   "file_extension": ".py",
   "mimetype": "text/x-python",
   "name": "python",
   "nbconvert_exporter": "python",
   "pygments_lexer": "ipython3",
   "version": "3.9.12"
  }
 },
 "nbformat": 4,
 "nbformat_minor": 5
}
